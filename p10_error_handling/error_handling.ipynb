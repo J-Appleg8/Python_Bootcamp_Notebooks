{
 "cells": [
  {
   "cell_type": "code",
   "execution_count": 7,
   "metadata": {},
   "outputs": [
    {
     "name": "stdout",
     "output_type": "stream",
     "text": [
      "30\n",
      "Hey it looks like you arent adding correctly\n"
     ]
    }
   ],
   "source": [
    "def add(n1, n2):\n",
    "    print(n1+n2)\n",
    "\n",
    "\n",
    "try:\n",
    "    # want to attempt this code - may have an error\n",
    "    result = add(10,'10')\n",
    "except:\n",
    "    print(\"Hey it looks like you arent adding correctly\")\n",
    "else:\n",
    "    print(\"Add went well!\")\n",
    "    print(result)\n",
    "\n"
   ]
  },
  {
   "cell_type": "code",
   "execution_count": 13,
   "metadata": {},
   "outputs": [
    {
     "name": "stdout",
     "output_type": "stream",
     "text": [
      "Hey you have an OS Error\n",
      "I always run\n"
     ]
    }
   ],
   "source": [
    "\n",
    "try:\n",
    "    f = open('testfile.txt', 'r')\n",
    "    f.write(\"Write a test line\")\n",
    "\n",
    "except TypeError:\n",
    "    print(\"There was a type error\")\n",
    "\n",
    "except OSError:\n",
    "    print(\"Hey you have an OS Error\")\n",
    "\n",
    "except:\n",
    "    print(\"All other exceptions\")\n",
    "\n",
    "finally:\n",
    "    print(\"I always run\")\n",
    "\n",
    "\n"
   ]
  },
  {
   "cell_type": "code",
   "execution_count": 21,
   "metadata": {},
   "outputs": [
    {
     "name": "stdout",
     "output_type": "stream",
     "text": [
      "Thank you!\n",
      "1\n"
     ]
    }
   ],
   "source": [
    "\n",
    "def ask_for_int():\n",
    "    while True:\n",
    "        try:\n",
    "            result = int(input(\"Please provide a number: \"))\n",
    "        except:\n",
    "            print(\"Whoops! That is not a number\")\n",
    "            continue\n",
    "        else:\n",
    "            print(\"Thank you!\")\n",
    "            print(result)\n",
    "            break\n",
    "\n",
    "\n",
    "ask_for_int()\n"
   ]
  }
 ],
 "metadata": {
  "interpreter": {
   "hash": "c49fb5e17041472b0e480caef049d2fa9fd3dce7f13c3ac2f70f486e6e889625"
  },
  "kernelspec": {
   "display_name": "Python 3.9.5 64-bit ('env': venv)",
   "language": "python",
   "name": "python3"
  },
  "language_info": {
   "codemirror_mode": {
    "name": "ipython",
    "version": 3
   },
   "file_extension": ".py",
   "mimetype": "text/x-python",
   "name": "python",
   "nbconvert_exporter": "python",
   "pygments_lexer": "ipython3",
   "version": "3.9.5"
  },
  "orig_nbformat": 4
 },
 "nbformat": 4,
 "nbformat_minor": 2
}
