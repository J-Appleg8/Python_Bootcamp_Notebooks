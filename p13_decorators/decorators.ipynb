{
 "cells": [
  {
   "cell_type": "markdown",
   "metadata": {},
   "source": [
    "<br>  \n",
    "\n",
    "---\n",
    "## <span style=\"color:mediumturquoise\">Function Scope</span>\n",
    "<br>  \n",
    "\n",
    "---\n",
    "### <span style=\"color:palegreen\">Basic Review:</span>"
   ]
  },
  {
   "cell_type": "code",
   "execution_count": 1,
   "metadata": {},
   "outputs": [
    {
     "name": "stdout",
     "output_type": "stream",
     "text": [
      "The my_hello() function has been executed\n",
      "I am going to return a function\n"
     ]
    },
    {
     "data": {
      "text/plain": [
       "'\\t This is the greet() func inside hello'"
      ]
     },
     "execution_count": 1,
     "metadata": {},
     "output_type": "execute_result"
    }
   ],
   "source": [
    "\n",
    "def hello(name=\"James\"):\n",
    "\n",
    "    print(\"The my_hello() function has been executed\")\n",
    "\n",
    "    def greet():\n",
    "        return \"\\t This is the greet() func inside hello\"\n",
    "    \n",
    "    def welcome():\n",
    "        return \"\\t This is the welcome() func inside hello\"\n",
    "\n",
    "    print(\"I am going to return a function\")\n",
    "\n",
    "    if name == 'James':\n",
    "        return greet\n",
    "    else:\n",
    "        return welcome\n",
    "\n",
    "\n",
    "my_new_func = hello()\n",
    "my_new_func()\n"
   ]
  },
  {
   "cell_type": "markdown",
   "metadata": {},
   "source": [
    "<br>  \n",
    "\n",
    "---\n",
    "### <span style=\"color:palegreen\">Function within function:</span>\n",
    "The below shows an example of:\n",
    "1. Having a function\n",
    "1. Defining a function inside of that function\n",
    "1. Returning that function"
   ]
  },
  {
   "cell_type": "code",
   "execution_count": 2,
   "metadata": {},
   "outputs": [
    {
     "data": {
      "text/plain": [
       "'I am very cool!'"
      ]
     },
     "execution_count": 2,
     "metadata": {},
     "output_type": "execute_result"
    }
   ],
   "source": [
    "\n",
    "def cool():\n",
    "\n",
    "    def super_cool():\n",
    "        return \"I am very cool!\"\n",
    "\n",
    "    return super_cool\n",
    "\n",
    "\n",
    "some_func = cool()\n",
    "some_func()\n"
   ]
  },
  {
   "cell_type": "markdown",
   "metadata": {},
   "source": [
    "<br>  \n",
    "\n",
    "---\n",
    "### <span style=\"color:palegreen\">Passing a function as an argument:</span>\n",
    "The code below shows an example of how to pass a function into another function\n",
    "- IMPORTANT NOTE: When you pass in a function into another function, you do not execute the function -- reference it without closed parenthesis"
   ]
  },
  {
   "cell_type": "code",
   "execution_count": 3,
   "metadata": {},
   "outputs": [
    {
     "name": "stdout",
     "output_type": "stream",
     "text": [
      "Other code runs here\n",
      "Hi James!\n"
     ]
    }
   ],
   "source": [
    "\n",
    "def my_hello():\n",
    "    return \"Hi James!\"\n",
    "\n",
    "def other(some_def_func):\n",
    "    print(\"Other code runs here\")\n",
    "    print(some_def_func())\n",
    "\n",
    "\n",
    "other(my_hello)\n"
   ]
  },
  {
   "cell_type": "markdown",
   "metadata": {},
   "source": [
    "<br>  \n",
    "\n",
    "---\n",
    "## <span style=\"color:mediumturquoise\">Python Decorators</span>\n",
    "---\n",
    "\n",
    "### <span style=\"color:palegreen\">Overview:</span>\n",
    "Can think of this decorator as a present with wrapping paper (why they are called decorators). The actual original function is the present, we are going to put it inside a box and wrap around it. The wrapping paper is the extra code that can go on top of the function -- before it or after the function below it.\n",
    "\n",
    "Python decorators allow you to tack on extra functionality to an already existing function\n",
    "- They use the @ operator and are then placed on top of the original function"
   ]
  },
  {
   "cell_type": "markdown",
   "metadata": {},
   "source": [
    "<br>  \n",
    "\n",
    "---\n",
    "### <span style=\"color:palegreen\">Approach Using Variable Assignment:</span>\n",
    "When we pass <span style=\"color:#61AFEF\">func_needs_decorator</span> into the <span style=\"color:#61AFEF\">new_decorator</span> function:\n",
    "1. <span style=\"color:#61AFEF\">func_needs_decorator</span> is passed into <span style=\"color:#61AFEF\">wrap_func</span>\n",
    "1. Some extra code is added before it\n",
    "1. We execute the original function\n",
    "1. Then add in some extra code after the function\n",
    "1. And finally, with this new defined wrapping function, we return the wrapped version of the original function  \n",
    "</br>  \n",
    "\n",
    "1.) We are taking in the function that wants a decorator:\n",
    "\n",
    "```python\n",
    "    decorated_func = new_decorator(func_needs_decorator)\n",
    "```  \n",
    "<br>\n",
    "2.) Then wrapping it in some extra stuff, and returning back a wrapped version of that function:\n",
    "\n",
    "```python\n",
    "    def new_decorator(original_func):\n",
    "        \n",
    "        def wrap_func():\n",
    "            print(\"Some extra code, before the original function\")\n",
    "            original_func()\n",
    "            print(\"Some extra code, after the original function!\")\n",
    "\n",
    "        return wrap_func\n",
    "```\n",
    "</br>\n",
    "NOTE: The <span style=\"color:#61AFEF\">wrap_func()</span> represents the extra functionality that you want to decorate the original function with"
   ]
  },
  {
   "cell_type": "code",
   "execution_count": 5,
   "metadata": {},
   "outputs": [],
   "source": [
    "\n",
    "def new_decorator(original_func):\n",
    "    \n",
    "    def wrap_func():\n",
    "        print(\"Some extra code, before the original function\")\n",
    "        original_func()\n",
    "        print(\"Some extra code, after the original function!\")\n",
    "\n",
    "    return wrap_func\n",
    "\n",
    "\n",
    "# Function that will need a decorator\n",
    "def func_needs_decorator():\n",
    "    print(\"I want to be decorated!\")\n",
    "\n",
    "\n",
    "decorated_func = new_decorator(func_needs_decorator)\n"
   ]
  },
  {
   "cell_type": "markdown",
   "metadata": {},
   "source": [
    "<br>  \n",
    "\n",
    "---\n",
    "### <span style=\"color:palegreen\">Using a Decorator:</span>\n",
    "When the keyword <span style=\"color:#61AFEF\">@new_decorator</span> is placed on top of a function:\n",
    "1. Python recognizes to then pass <span style=\"color:#61AFEF\">other_func_needs_decorator</span> into the <span style=\"color:#61AFEF\">new_decorator</span> function as the <span style=\"color:#FFB270\">original_func</span> parameter\n",
    "1. Then will do something to the function\n",
    "    - In our example, we add extra code before and after calling the original function in the <span style=\"color:#61AFEF\">wrap_func</span> function\n",
    "1. And finally return a wrapped version of <span style=\"color:#61AFEF\">other_func_needs_decorator</span>  \n",
    "\n",
    "</br>  \n",
    "NOTE: To turn off, or disable the decorator from being used on the function, you can just comment out the decorator above the function"
   ]
  },
  {
   "cell_type": "code",
   "execution_count": 8,
   "metadata": {},
   "outputs": [
    {
     "name": "stdout",
     "output_type": "stream",
     "text": [
      "Some extra code, before the original function\n",
      "I want to be decorated!\n",
      "Some extra code, after the original function!\n"
     ]
    }
   ],
   "source": [
    "\n",
    "\n",
    "# ###############################################################################\n",
    "# Alternatively, from the above code, we can add the decorator with the @ symbol\n",
    "@new_decorator\n",
    "def other_func_needs_decorator():\n",
    "    print(\"I want to be decorated!\")\n",
    "\n",
    "\n",
    "other_func_needs_decorator()\n"
   ]
  }
 ],
 "metadata": {
  "interpreter": {
   "hash": "c49fb5e17041472b0e480caef049d2fa9fd3dce7f13c3ac2f70f486e6e889625"
  },
  "kernelspec": {
   "display_name": "Python 3.9.5 64-bit ('env': venv)",
   "language": "python",
   "name": "python3"
  },
  "language_info": {
   "codemirror_mode": {
    "name": "ipython",
    "version": 3
   },
   "file_extension": ".py",
   "mimetype": "text/x-python",
   "name": "python",
   "nbconvert_exporter": "python",
   "pygments_lexer": "ipython3",
   "version": "3.9.5"
  },
  "orig_nbformat": 4
 },
 "nbformat": 4,
 "nbformat_minor": 2
}
