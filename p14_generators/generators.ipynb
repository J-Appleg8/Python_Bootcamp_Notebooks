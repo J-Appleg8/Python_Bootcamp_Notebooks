{
 "cells": [
  {
   "cell_type": "markdown",
   "metadata": {},
   "source": [
    "<br>  \n",
    "\n",
    "---\n",
    "## <span style=\"color:mediumturquoise\">Python Generators</span>\n",
    "---\n",
    "### <span style=\"color:palegreen\">Overview:</span>\n",
    "Generator functions:\n",
    "- Allow us to write a function that can send back a value, and then later on be able to resume/pick up where it left off\n",
    "- Allow us to generate a sequence of values over time\n",
    "    - Instead of having to create an entire sequence and store it in memory\n",
    "<br>\n",
    "\n",
    "The main difference in syntax will be the use of a <span style=\"color:#FF6D7E\">yield</span> statement.<br><br>\n",
    "When a generator function is compiled, they become an object that supports an iteration protocol\n",
    "- That means when they are called in your code, they dont actually return a value and then exit\n",
    "- Instead, generator functions will automatically suspend and resume their execution and state around the last point of value generation\n",
    "- The advantage is that instead of having to compute an entire series of values up front, the generator computes one value and then waits until the next value is called for\n",
    "<br>  \n",
    "\n",
    "For Example:\n",
    "- The <span style=\"color:#61AFEF\">range()</span> function doesn't produce a list of all the values from start to stop in memory\n",
    "- Instead, it just keeps track of the last number and the step size, to provide a flow of numbers"
   ]
  },
  {
   "cell_type": "markdown",
   "metadata": {},
   "source": [
    "<br>  \n",
    "\n",
    "---\n",
    "### <span style=\"color:palegreen\">Example: Cubed Generator</span>\n",
    "In the below example, we are yeilding the values as they come, instead of storing a list of all the cubed values for numbers up to 10 which is much more memory efficient"
   ]
  },
  {
   "cell_type": "code",
   "execution_count": 4,
   "metadata": {},
   "outputs": [
    {
     "name": "stdout",
     "output_type": "stream",
     "text": [
      "0\n",
      "1\n",
      "8\n",
      "27\n",
      "64\n",
      "125\n",
      "216\n",
      "343\n",
      "512\n",
      "729\n"
     ]
    },
    {
     "data": {
      "text/plain": [
       "[0, 1, 8, 27, 64, 125, 216, 343, 512, 729]"
      ]
     },
     "execution_count": 4,
     "metadata": {},
     "output_type": "execute_result"
    }
   ],
   "source": [
    "\n",
    "def create_cubes(n):\n",
    "    for x in range(n):\n",
    "        yield x**3\n",
    "\n",
    "\n",
    "for x in create_cubes(10):\n",
    "    print(x)\n",
    "\n",
    "list(create_cubes(10))\n"
   ]
  },
  {
   "cell_type": "markdown",
   "metadata": {},
   "source": [
    "<br>  \n",
    "\n",
    "---\n",
    "### <span style=\"color:palegreen\">Example: Fibonacci Generator</span>\n",
    "Difference between yielding and creating a normal function is that, with a normal function, you would have to store everything in memory and return the output  \n",
    "\n",
    "Example: Instead of the code in the code cell, you would write something like this below:\n",
    "\n",
    "```python\n",
    "def get_fibon(n):\n",
    "    a = 1\n",
    "    b = 1\n",
    "    output = []\n",
    "\n",
    "    for i in range(n):\n",
    "        output.append(a)\n",
    "        a,b = b, a+b\n",
    "    return output\n",
    "```\n",
    "<br>\n",
    "With the above example, you would be holding everything in a list in memory instead of just yielding the values as they are needed"
   ]
  },
  {
   "cell_type": "code",
   "execution_count": null,
   "metadata": {},
   "outputs": [],
   "source": [
    "\n",
    "def get_fibon(n):\n",
    "    a = 1\n",
    "    b = 1\n",
    "\n",
    "    for i in range(n):\n",
    "        yield a\n",
    "        a,b = b, a+b\n",
    "\n",
    "\n",
    "for number in get_fibon(10):\n",
    "    print(number)"
   ]
  },
  {
   "cell_type": "markdown",
   "metadata": {},
   "source": [
    "<br>  \n",
    "\n",
    "---\n",
    "## <span style=\"color:mediumturquoise\">Using next() and iter()</span>\n",
    "---\n",
    "### <span style=\"color:palegreen\">Generators: next() function</span>\n",
    "\n",
    "If we run the generator function with a <span style=\"color:#FF6D7E\">for loop</span> like below, the output would be 0, 1 and 2\n",
    "```python\n",
    "for number in simple_gen():\n",
    "    print(number)\n",
    "```\n",
    "<br>\n",
    "If we run through the generator using the <span style=\"color:#61AFEF\">next()</span> function:<br>\n",
    "- Once: its output would be 0<br>\n",
    "- Twice: its output would be 1<br>\n",
    "- Three Times: its output would be 2<br>\n",
    "\n",
    "When we run it a fourth time however, its output would be a <span style=\"color:#FF6D7E\">StopIteration</span> error. What this error does is inform us that all the values have been yielded with the <span style=\"color:#61AFEF\">next()</span> function:  \n",
    "\n",
    "> <span style=\"color:#FF6D7E\">--------------------------------------------------------------------------</span>  \n",
    "> <span style=\"color:#FF6D7E\">StopIteration</span>`                             `Traceback (most recent call last)  \n",
    "> <span style=\"color:greenyellow\">~\\AppData\\Local\\Temp/ipykernel_7492/172969031.py</span> in <span style=\"color:#7CD5F1\">\\<\\module\\></span><br>\n",
    "> &nbsp;&nbsp;&nbsp;&nbsp;&nbsp;&nbsp;&nbsp;&nbsp;<span style=\"color:greenyellow\">13</span> print(next(simp_g))<br>\n",
    "> &nbsp;&nbsp;&nbsp;&nbsp;&nbsp;&nbsp;&nbsp;&nbsp;<span style=\"color:greenyellow\">14</span> print(next(simp_g))<br>\n",
    "> ---> <span style=\"color:greenyellow\">15</span> print(next(simp_g))<br><br>\n",
    "\n",
    "> <span style=\"color:#FF6D7E\">StopIteration</span>:<br><br>\n",
    "\n",
    "##### IMPORTANT NOTE:<span style=\"color:#FF6D7E\"> for loop</span> vs. <span style=\"color:#61AFEF\">next()</span>\n",
    "The reason why this error doesn't come up if we were using a <span style=\"color:#FF6D7E\">for loop</span> is because the <span style=\"color:#FF6D7E\">for loop</span> automatically catches this error and stops calling <span style=\"color:#61AFEF\">next()</span>"
   ]
  },
  {
   "cell_type": "code",
   "execution_count": 13,
   "metadata": {},
   "outputs": [
    {
     "name": "stdout",
     "output_type": "stream",
     "text": [
      "0\n",
      "1\n",
      "2\n"
     ]
    }
   ],
   "source": [
    "\n",
    "def simple_gen():\n",
    "    for x in range(3):\n",
    "        yield x\n",
    "\n",
    "\n",
    "# Create a new instance of simple_gen\n",
    "simp_g = simple_gen()\n",
    "\n",
    "print(next(simp_g))\n",
    "print(next(simp_g))\n",
    "print(next(simp_g))\n"
   ]
  },
  {
   "cell_type": "markdown",
   "metadata": {},
   "source": [
    "<br>  \n",
    "\n",
    "---\n",
    "### <span style=\"color:palegreen\">Generators: iter() function</span>\n",
    "If we try to use next(my_str) right off the bat it will return TypeError: 'str' object not an iterator\n",
    "- So we first need to use the <span style=\"color:#61AFEF\">iter()</span> function to make the generator iterable"
   ]
  },
  {
   "cell_type": "code",
   "execution_count": 14,
   "metadata": {},
   "outputs": [
    {
     "name": "stdout",
     "output_type": "stream",
     "text": [
      "h\n",
      "e\n",
      "l\n",
      "l\n",
      "o\n"
     ]
    },
    {
     "data": {
      "text/plain": [
       "'h'"
      ]
     },
     "execution_count": 14,
     "metadata": {},
     "output_type": "execute_result"
    }
   ],
   "source": [
    "\n",
    "my_str = 'hello'\n",
    "\n",
    "for letter in my_str:\n",
    "    print(letter)\n",
    "\n",
    "\n",
    "my_str_itr = iter(my_str)\n",
    "next(my_str_itr)\n",
    "\n"
   ]
  }
 ],
 "metadata": {
  "interpreter": {
   "hash": "c49fb5e17041472b0e480caef049d2fa9fd3dce7f13c3ac2f70f486e6e889625"
  },
  "kernelspec": {
   "display_name": "Python 3.9.5 64-bit ('env': venv)",
   "language": "python",
   "name": "python3"
  },
  "language_info": {
   "codemirror_mode": {
    "name": "ipython",
    "version": 3
   },
   "file_extension": ".py",
   "mimetype": "text/x-python",
   "name": "python",
   "nbconvert_exporter": "python",
   "pygments_lexer": "ipython3",
   "version": "3.9.5"
  },
  "orig_nbformat": 4
 },
 "nbformat": 4,
 "nbformat_minor": 2
}
