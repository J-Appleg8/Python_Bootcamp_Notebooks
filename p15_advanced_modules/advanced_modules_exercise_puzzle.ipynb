{
 "cells": [
  {
   "cell_type": "markdown",
   "metadata": {},
   "source": [
    "# Advanced Modules Exercise Puzzle\n",
    "\n",
    "It's time to test your new skills, this puzzle project will combine multiple skills sets, including unzipping files with Python, using os module to automatically search through lots of files.\n",
    "\n",
    "## Your Goal\n",
    "\n",
    "This is a puzzle, so we don't want to give you too much guidance and instead have you figure out things on your own.\n",
    "\n",
    "There is a .zip file called 'unzip_me_for_instructions.zip', unzip it, open the .txt file with Python, read the instructions and see if you can figure out what you need to do!\n",
    "\n",
    "**If you get stuck or don't know where to start, here is a [guide/hints](https://docs.google.com/document/d/1JxydUr4n4fSR0EwwuwT-aHia-yPK6r-oTBuVT2sqheo/edit?usp=sharing)**"
   ]
  },
  {
   "cell_type": "code",
   "execution_count": 12,
   "metadata": {},
   "outputs": [],
   "source": [
    "import zipfile\n",
    "import os\n",
    "import re\n",
    "\n",
    "zip_instr_obj = zipfile.ZipFile('unzip_me_for_instructions.zip', 'r')\n",
    "zip_instr_obj.extractall('exercise_instructions')\n",
    "\n"
   ]
  },
  {
   "cell_type": "markdown",
   "metadata": {},
   "source": [
    "Good work on unzipping the file!<br><br>\n",
    "You should now see 5 folders, each with a lot of random .txt files.<br><br>\n",
    "Within one of these text files is a telephone number formated ###-###-#### \n",
    "Use the Python os module and regular expressions to iterate through each file, open it, and search for a telephone number.\n",
    "Good luck!"
   ]
  },
  {
   "cell_type": "code",
   "execution_count": 39,
   "metadata": {},
   "outputs": [
    {
     "name": "stdout",
     "output_type": "stream",
     "text": [
      "719-266-2837\n"
     ]
    }
   ],
   "source": [
    "\n",
    "# Within one of these text files is a telephone number formated ###-###-#### \n",
    "instr_path = 'C:\\\\Users\\\\James\\\\Desktop\\\\Python_Bootcamp\\\\Python_Bootcamp_Notebooks\\\\p15_advanced_modules\\\\exercise_instructions'\n",
    "phone_regex = r'\\d{3}-\\d{3}-\\d{4}'\n",
    "\n",
    "for folder, subfolders, files in os.walk(instr_path):\n",
    "    if files:\n",
    "            for file in files:\n",
    "                if file.endswith('.txt'):\n",
    "                    with open(os.path.join(folder, file), \"r\") as myfile:\n",
    "                        data = myfile.read().replace('\\n', ' ')\n",
    "                        phone = re.search(phone_regex, data)\n",
    "                        if phone:\n",
    "                            print(phone.group())\n",
    "\n"
   ]
  },
  {
   "cell_type": "markdown",
   "metadata": {},
   "source": [
    "## Course Solution:"
   ]
  },
  {
   "cell_type": "code",
   "execution_count": 43,
   "metadata": {},
   "outputs": [
    {
     "name": "stdout",
     "output_type": "stream",
     "text": [
      "719-266-2837\n"
     ]
    }
   ],
   "source": [
    "\n",
    "def search(file, pattern=r'\\d{3}-\\d{3}-\\d{4}'):\n",
    "    f = open(file, 'r')\n",
    "    text = f.read()\n",
    "\n",
    "    if re.search(pattern, text):\n",
    "        return re.search(pattern, text)\n",
    "    else:\n",
    "        return ''\n",
    "\n",
    "\n",
    "results = []\n",
    "\n",
    "for folder, subfolders, files in os.walk(instr_path):\n",
    "    for f in files:\n",
    "        full_path = os.path.join(folder, f)\n",
    "        results.append(search(full_path))\n",
    "\n",
    "for r in results:\n",
    "    if r != '':\n",
    "        print(r.group())\n"
   ]
  }
 ],
 "metadata": {
  "anaconda-cloud": {},
  "kernelspec": {
   "display_name": "Python 3",
   "language": "python",
   "name": "python3"
  },
  "language_info": {
   "codemirror_mode": {
    "name": "ipython",
    "version": 3
   },
   "file_extension": ".py",
   "mimetype": "text/x-python",
   "name": "python",
   "nbconvert_exporter": "python",
   "pygments_lexer": "ipython3",
   "version": "3.9.5"
  }
 },
 "nbformat": 4,
 "nbformat_minor": 2
}
