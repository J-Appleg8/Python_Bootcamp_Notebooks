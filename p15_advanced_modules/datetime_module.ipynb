{
 "cells": [
  {
   "cell_type": "markdown",
   "metadata": {},
   "source": [
    "<br>  \n",
    "\n",
    "---\n",
    "## <span style=\"color:mediumturquoise\">datetime module</span>\n",
    "\n",
    "Python has the datetime module to help deal with timestamps in your code. Time values are represented with the time class. Times have attributes for hour, minute, second, and microsecond. They can also include time zone information. The arguments to initialize a time instance are optional, but the default of 0 is unlikely to be what you want."
   ]
  },
  {
   "cell_type": "markdown",
   "metadata": {},
   "source": [
    "<br>  \n",
    "\n",
    "---\n",
    "### <span style=\"color:palegreen\">Time</span>\n",
    "Let's take a look at how we can extract time information from the datetime module. We can create a timestamp by specifying \n",
    "```python\n",
    "    datetime.time(hour,minute,second,microsecond)\n",
    "```\n",
    "\n",
    "NOTE: A time instance only holds values of time, and not a date associated with the time. \n",
    "- What we can do is add date information using a date object or a combined datetime object  \n",
    "\n",
    "<br>\n",
    "We can also check the min and max values a time of day can have in the module:\n",
    "- The min and max class attributes reflect the valid range of times in a single day."
   ]
  },
  {
   "cell_type": "code",
   "execution_count": 7,
   "metadata": {},
   "outputs": [
    {
     "name": "stdout",
     "output_type": "stream",
     "text": [
      "20\n",
      "13\n",
      "13:20:01.000020\n"
     ]
    }
   ],
   "source": [
    "import datetime\n",
    "\n",
    "mytime = datetime.time(13, 20, 1, 20)\n",
    "print(mytime.minute)\n",
    "print(mytime.hour)\n",
    "print(mytime)\n"
   ]
  },
  {
   "cell_type": "code",
   "execution_count": 10,
   "metadata": {},
   "outputs": [
    {
     "name": "stdout",
     "output_type": "stream",
     "text": [
      "2022-01-01\n",
      "1\n"
     ]
    }
   ],
   "source": [
    "\n",
    "my_today = datetime.date.today()\n",
    "print(my_today)\n",
    "print(my_today.day)\n"
   ]
  },
  {
   "cell_type": "markdown",
   "metadata": {},
   "source": [
    "<br>  \n",
    "\n",
    "---\n",
    "### <span style=\"color:palegreen\">Dates</span>\n",
    "datetime (as you might suspect) also allows us to work with date timestamps. Calendar date values are represented with the date class. Instances have attributes for year, month, and day. It is easy to create a date representing today’s date using the today() class method.\n",
    "\n",
    "Let's see some examples:\n",
    "As with time, the range of date values supported can be determined using the min and max attributes.\n",
    "Another way to create new date instances uses the replace() method of an existing date. For example, you can change the year, leaving the day and month alone."
   ]
  },
  {
   "cell_type": "code",
   "execution_count": null,
   "metadata": {},
   "outputs": [],
   "source": [
    "from datetime import datetime\n",
    "\n",
    "my_datetime = datetime(2021, 10, 3, 14, 20, 1)\n",
    "print(my_datetime)\n",
    "\n",
    "my_datetime = my_datetime.replace(year=2020)\n",
    "print(my_datetime)\n"
   ]
  },
  {
   "cell_type": "markdown",
   "metadata": {},
   "source": [
    "<br>  \n",
    "\n",
    "---\n",
    "### <span style=\"color:palegreen\">Arithmetic</span>\n",
    "We can perform arithmetic on date objects to check for time differences. For example:\n",
    "This gives us the difference in days between the two dates. You can use the timedelta method to specify various units of times (days, minutes, hours, etc.)"
   ]
  },
  {
   "cell_type": "code",
   "execution_count": 18,
   "metadata": {},
   "outputs": [
    {
     "name": "stdout",
     "output_type": "stream",
     "text": [
      "365 days, 0:00:00\n"
     ]
    }
   ],
   "source": [
    "from datetime import date\n",
    "\n",
    "date1 = date(2021, 11, 3)\n",
    "date2 = date(2020, 11, 3)\n",
    "\n",
    "result = date1 - date2\n",
    "print(result)\n"
   ]
  },
  {
   "cell_type": "code",
   "execution_count": 23,
   "metadata": {},
   "outputs": [
    {
     "name": "stdout",
     "output_type": "stream",
     "text": [
      "365 days, 10:00:00\n",
      "<built-in method total_seconds of datetime.timedelta object at 0x000001B0AE0596F0>\n"
     ]
    }
   ],
   "source": [
    "\n",
    "datetime1 = datetime(2021, 11, 3, 22, 0)\n",
    "datetime2 = datetime(2020, 11, 3, 12, 0)\n",
    "\n",
    "datetime_diff = datetime1 - datetime2\n",
    "print(datetime_diff)\n"
   ]
  }
 ],
 "metadata": {
  "interpreter": {
   "hash": "c49fb5e17041472b0e480caef049d2fa9fd3dce7f13c3ac2f70f486e6e889625"
  },
  "kernelspec": {
   "display_name": "Python 3.9.5 64-bit ('env': venv)",
   "language": "python",
   "name": "python3"
  },
  "language_info": {
   "codemirror_mode": {
    "name": "ipython",
    "version": 3
   },
   "file_extension": ".py",
   "mimetype": "text/x-python",
   "name": "python",
   "nbconvert_exporter": "python",
   "pygments_lexer": "ipython3",
   "version": "3.9.5"
  },
  "orig_nbformat": 4
 },
 "nbformat": 4,
 "nbformat_minor": 2
}
