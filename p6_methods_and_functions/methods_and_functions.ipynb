{
 "cells": [
  {
   "cell_type": "markdown",
   "metadata": {},
   "source": [
    "<br>  \n",
    "\n",
    "---\n",
    "## Lambda Expressions, Map and Filter Functions:\n",
    "---\n",
    "### Map Functions:\n",
    "- Make an iterator that computes the function using arguments from each of the iterables\n",
    "- Stops when the shortest iterable is exhausted.\n",
    "\n",
    "In other words:\n",
    "- You pass a reference to a function and the values for the given function's args into the `map()` function\n",
    "- `map()` will then apply that function to all the provided values"
   ]
  },
  {
   "cell_type": "code",
   "execution_count": 4,
   "metadata": {},
   "outputs": [
    {
     "name": "stdout",
     "output_type": "stream",
     "text": [
      "1\n",
      "4\n",
      "9\n",
      "16\n",
      "25\n"
     ]
    },
    {
     "data": {
      "text/plain": [
       "[1, 4, 9, 16, 25]"
      ]
     },
     "execution_count": 4,
     "metadata": {},
     "output_type": "execute_result"
    }
   ],
   "source": [
    "def square(num):\n",
    "    return num**2\n",
    "\n",
    "\n",
    "my_nums = [1,2,3,4,5]\n",
    "\n",
    "for item in map(square, my_nums):\n",
    "    print(item)\n",
    "\n",
    "new_list = list(map(square, my_nums))\n",
    "\n",
    "new_list\n",
    "\n",
    "\n",
    "# Course Example 2:\n",
    "def splicer(mystring):\n",
    "    if len(mystring)%2 == 0:\n",
    "        return 'EVEN'\n",
    "    else:\n",
    "        return mystring[0]\n",
    "\n",
    "\n",
    "names = ['Andy', 'Eve', 'Sally']\n",
    "\n",
    "# Returning the values back in a list format\n",
    "list(map(splicer, names))\n",
    "\n"
   ]
  },
  {
   "cell_type": "markdown",
   "metadata": {},
   "source": [
    "---\n",
    "### Filter Functions:\n",
    "- Return an iterator yielding those items of iterable for which function(item) is true.\n",
    "- If function is None, return the items that are true.\n",
    "\n",
    "In other words:\n",
    "- It will filter based off of the provided function's condition"
   ]
  },
  {
   "cell_type": "code",
   "execution_count": 9,
   "metadata": {},
   "outputs": [
    {
     "name": "stdout",
     "output_type": "stream",
     "text": [
      "2\n",
      "4\n",
      "6\n"
     ]
    },
    {
     "data": {
      "text/plain": [
       "[2, 4, 6]"
      ]
     },
     "execution_count": 9,
     "metadata": {},
     "output_type": "execute_result"
    }
   ],
   "source": [
    "def check_even(num):\n",
    "    return num%2 ==0\n",
    "\n",
    "mynums = [1,2,3,4,5,6]\n",
    "\n",
    "for n in filter(check_even, mynums):\n",
    "    print(n)\n",
    "\n",
    "filter_list = list(filter(check_even, mynums))\n",
    "\n",
    "filter_list\n"
   ]
  },
  {
   "cell_type": "markdown",
   "metadata": {},
   "source": [
    "---\n",
    "### Lambda Functions:\n",
    "- Referred to as annonymous functions because they are typically not named\n",
    "- Best used in conjunction with functions like filter() and map()"
   ]
  },
  {
   "cell_type": "code",
   "execution_count": 10,
   "metadata": {},
   "outputs": [
    {
     "data": {
      "text/plain": [
       "9"
      ]
     },
     "execution_count": 10,
     "metadata": {},
     "output_type": "execute_result"
    }
   ],
   "source": [
    "def squared(num):\n",
    "    result = num**2\n",
    "    return result\n",
    "\n",
    "# The function above can actually be converted into one line like:\n",
    "def squared(num): return num**2\n",
    "\n",
    "# But this can then be converted to a lambda() function like:\n",
    "my_square = lambda num: num**2\n",
    "my_square(3)\n"
   ]
  },
  {
   "cell_type": "code",
   "execution_count": 12,
   "metadata": {},
   "outputs": [
    {
     "data": {
      "text/plain": [
       "[2, 4, 6]"
      ]
     },
     "execution_count": 12,
     "metadata": {},
     "output_type": "execute_result"
    }
   ],
   "source": [
    "# We can rewrite the code in the map() section using a lambda function:\n",
    "lam_nums = [1,2,3,4,5]\n",
    "new_lam_nums_1 = list(map(lambda num:num**2, lam_nums))\n",
    "\n",
    "\n",
    "# Same with the code from the filter() section, using a lambda function:\n",
    "flam_nums = [1,2,3,4,5,6]\n",
    "new_lam_nums_2 = list(filter(lambda num: num%2 ==0, flam_nums))\n",
    "\n"
   ]
  },
  {
   "cell_type": "code",
   "execution_count": 19,
   "metadata": {},
   "outputs": [
    {
     "data": {
      "text/plain": [
       "['ydnA', 'evE', 'yllaS']"
      ]
     },
     "execution_count": 19,
     "metadata": {},
     "output_type": "execute_result"
    }
   ],
   "source": [
    "# Example of getting the first letter from each name in the names list\n",
    "first_letter_name = list(map(lambda name:name[0], names))\n",
    "\n",
    "# Reversing the spelling order of each name in the names list\n",
    "revered_names_list = list(map(lambda name:name[::-1], names))\n",
    "revered_names_list\n"
   ]
  }
 ],
 "metadata": {
  "interpreter": {
   "hash": "c49fb5e17041472b0e480caef049d2fa9fd3dce7f13c3ac2f70f486e6e889625"
  },
  "kernelspec": {
   "display_name": "Python 3.9.5 64-bit ('env': venv)",
   "language": "python",
   "name": "python3"
  },
  "language_info": {
   "codemirror_mode": {
    "name": "ipython",
    "version": 3
   },
   "file_extension": ".py",
   "mimetype": "text/x-python",
   "name": "python",
   "nbconvert_exporter": "python",
   "pygments_lexer": "ipython3",
   "version": "3.9.5"
  },
  "orig_nbformat": 4
 },
 "nbformat": 4,
 "nbformat_minor": 2
}
