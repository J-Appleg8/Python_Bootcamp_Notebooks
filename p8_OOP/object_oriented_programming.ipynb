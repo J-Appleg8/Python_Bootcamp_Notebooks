{
 "cells": [
  {
   "cell_type": "markdown",
   "metadata": {},
   "source": [
    "---\n",
    "## Section 8: Object Oriented Programming\n",
    "---\n",
    "### Overview:\n",
    "General syntax of a Python object\n",
    "- The keyword 'self' is used so that Python knows you are referring to the instance of the class"
   ]
  },
  {
   "cell_type": "code",
   "execution_count": null,
   "metadata": {},
   "outputs": [],
   "source": [
    "\n",
    "class NameOfClass():\n",
    "\n",
    "    def __init__(self, param1, param2):\n",
    "        self.param1 = param1\n",
    "        self.param2 = param2\n",
    "\n",
    "    def some_method(self):\n",
    "        # Perform some action\n",
    "        print(self.param1)\n",
    "        "
   ]
  },
  {
   "cell_type": "markdown",
   "metadata": {},
   "source": [
    "---\n",
    "### Attributes & Class Keyword:\n",
    "The `__init__()` method is called automatically when the class is run  \n",
    "\n",
    "Attributes:\n",
    "- Take in an argument (if applicable)\n",
    "- Assign it using self.attribute_name"
   ]
  },
  {
   "cell_type": "code",
   "execution_count": 5,
   "metadata": {},
   "outputs": [
    {
     "data": {
      "text/plain": [
       "'Rutherford'"
      ]
     },
     "execution_count": 5,
     "metadata": {},
     "output_type": "execute_result"
    }
   ],
   "source": [
    "\n",
    "class Dog():\n",
    "    def __init__(self, breed, name, spots):\n",
    "        self.breed = breed\n",
    "        self.name = name\n",
    "        self.spots = spots\n",
    "\n",
    "\n",
    "my_dog = Dog(breed='Lab', name='Rutherford', spots=False)\n",
    "\n"
   ]
  }
 ],
 "metadata": {
  "interpreter": {
   "hash": "c49fb5e17041472b0e480caef049d2fa9fd3dce7f13c3ac2f70f486e6e889625"
  },
  "kernelspec": {
   "display_name": "Python 3.9.5 64-bit ('env': venv)",
   "language": "python",
   "name": "python3"
  },
  "language_info": {
   "codemirror_mode": {
    "name": "ipython",
    "version": 3
   },
   "file_extension": ".py",
   "mimetype": "text/x-python",
   "name": "python",
   "nbconvert_exporter": "python",
   "pygments_lexer": "ipython3",
   "version": "3.9.5"
  },
  "orig_nbformat": 4
 },
 "nbformat": 4,
 "nbformat_minor": 2
}
