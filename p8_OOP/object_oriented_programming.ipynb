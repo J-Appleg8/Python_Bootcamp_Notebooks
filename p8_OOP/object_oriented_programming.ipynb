{
 "cells": [
  {
   "cell_type": "markdown",
   "metadata": {},
   "source": [
    "---\n",
    "## Section 8: Object Oriented Programming\n",
    "---\n",
    "### Overview:\n",
    "General syntax of a Python object\n",
    "- The keyword 'self' is used so that Python knows you are referring to the instance of the class"
   ]
  },
  {
   "cell_type": "code",
   "execution_count": null,
   "metadata": {},
   "outputs": [],
   "source": [
    "\n",
    "class NameOfClass():\n",
    "\n",
    "    def __init__(self, param1, param2):\n",
    "        self.param1 = param1\n",
    "        self.param2 = param2\n",
    "\n",
    "    def some_method(self):\n",
    "        # Perform some action\n",
    "        print(self.param1)\n",
    "        "
   ]
  },
  {
   "cell_type": "markdown",
   "metadata": {},
   "source": [
    "---\n",
    "### Attributes & Class Keyword:\n",
    "The `__init__()` method is called automatically when the class is run  \n",
    "\n",
    "Attributes:\n",
    "- Take in an argument (if applicable)\n",
    "- Assign it using self.attribute_name  \n",
    "\n",
    "`----------------------------------------------------------------------------------------------`  \n",
    "### Methods:\n",
    "Methods are functions defined within the body of the class\n",
    "- Are used to perform operations on attributes of the class object"
   ]
  },
  {
   "cell_type": "code",
   "execution_count": 38,
   "metadata": {},
   "outputs": [
    {
     "name": "stdout",
     "output_type": "stream",
     "text": [
      "Whoof! My name is Rutherford and the number is 10\n"
     ]
    }
   ],
   "source": [
    "\n",
    "class Dog():\n",
    "\n",
    "    # Class Object Attribute (Will be the same for any instance of the class)\n",
    "    species = 'mammal'\n",
    "\n",
    "    def __init__(self, breed, name):\n",
    "        self.breed = breed\n",
    "        self.name = name\n",
    "    \n",
    "    # Custom method defined for this class\n",
    "    def bark(self, number):\n",
    "        print(f'Whoof! My name is {self.name} and the number is {number}')\n",
    "\n",
    "\n",
    "# #################################################################################\n",
    "# Creating instance of the Dog class\n",
    "my_dog = Dog(breed='Lab', name='Rutherford')\n",
    "\n",
    "# Class Object Attribute\n",
    "my_dog.species\n",
    "\n",
    "# Custom Method\n",
    "my_dog.bark(10)\n",
    "\n"
   ]
  },
  {
   "cell_type": "code",
   "execution_count": 45,
   "metadata": {},
   "outputs": [
    {
     "data": {
      "text/plain": [
       "2826.0"
      ]
     },
     "execution_count": 45,
     "metadata": {},
     "output_type": "execute_result"
    }
   ],
   "source": [
    "\n",
    "class Circle():\n",
    "    pi = 3.14\n",
    "\n",
    "    # Attributes dont always have to be defined from a parameter call\n",
    "    def __init__(self, radius=1):\n",
    "        self.radius = radius\n",
    "        self.area = radius * radius * Circle.pi  # Can use Circle.pi because pi is a class object attribute\n",
    "\n",
    "\n",
    "    def get_circumference(self):\n",
    "        return self.radius * self.pi * 2\n",
    "\n",
    "\n",
    "my_circle = Circle(30)\n",
    "my_circle.get_circumference()\n",
    "my_circle.area\n",
    "\n"
   ]
  },
  {
   "cell_type": "markdown",
   "metadata": {},
   "source": [
    "---\n",
    "### Inheritance and Polymorphism:  \n",
    "\n",
    "---  \n",
    "\n",
    "#### Inheritance:\n",
    "By inheriting from another class, all the methods in the base class are accessible when creating an instance of the other class  \n",
    "\n",
    "`------------------------------------------------------------------------`  \n",
    "\n",
    "Inheritance example code below:\n",
    "- An instance of the Animal class is also created when an instance of the NewDog class is created since NewDog is inheriting from the Animal class\n",
    "- We overwrite the `who_am_i()` method in the NewDog class so that it creates a different output than the `who_am_i()` method under the Animal class"
   ]
  },
  {
   "cell_type": "code",
   "execution_count": 50,
   "metadata": {},
   "outputs": [
    {
     "name": "stdout",
     "output_type": "stream",
     "text": [
      "Animal Created\n",
      "Dog Created\n",
      "I am a Dog\n"
     ]
    }
   ],
   "source": [
    "\n",
    "# Base class\n",
    "class Animal():\n",
    "    def __init__(self):\n",
    "        print(\"Animal Created\")\n",
    "\n",
    "    def who_am_i(self):\n",
    "        print(\"I am an animal\")\n",
    "\n",
    "    def eat(self):\n",
    "        print(\"I am eating\")\n",
    "\n",
    "\n",
    "# New class that inherits the Animal class\n",
    "class NewDog(Animal):\n",
    "\n",
    "    def __init__(self):\n",
    "        Animal.__init__(self)\n",
    "        print(\"Dog Created\")\n",
    "\n",
    "    def who_am_i(self):\n",
    "        print(\"I am a Dog\")\n",
    "\n",
    "    def bark(self):\n",
    "        print(\"Whoof!\")\n",
    "\n",
    "\n",
    "# The __init__() in the NewDog class will call the __init__() in the Animal class \n",
    "# Then it will run the __init__() under the NewDog class\n",
    "my_new_dog = NewDog()\n",
    "\n",
    "my_new_dog.who_am_i()\n",
    "\n"
   ]
  },
  {
   "cell_type": "markdown",
   "metadata": {},
   "source": [
    "---\n",
    "#### Polymorphism:\n",
    "Refers to the way that different object classes can share the same method name\n"
   ]
  },
  {
   "cell_type": "code",
   "execution_count": 58,
   "metadata": {},
   "outputs": [
    {
     "name": "stdout",
     "output_type": "stream",
     "text": [
      "<class '__main__.PolyDog'>\n",
      "Niko says woof!\n",
      "<class '__main__.PolyCat'>\n",
      "Felix says meow!\n",
      "Niko says woof!\n"
     ]
    }
   ],
   "source": [
    "\n",
    "class PolyDog():\n",
    "    def __init__(self, name):\n",
    "        self.name = name\n",
    "\n",
    "    def speak(self):\n",
    "        return self.name + \" says woof!\"\n",
    "\n",
    "\n",
    "class PolyCat():\n",
    "    def __init__(self, name):\n",
    "        self.name = name\n",
    "\n",
    "    def speak(self):\n",
    "        return self.name + \" says meow!\"\n",
    "\n",
    "\n",
    "niko = PolyDog(\"Niko\")\n",
    "felix = PolyCat(\"Felix\")\n",
    "\n",
    "# for loop that loops over each variable class instance and executes the speak() method\n",
    "for pet in [niko, felix]:\n",
    "    print(type(pet))\n",
    "    print(pet.speak())\n",
    "\n",
    "\n",
    "# Function that can take in instances of different classes that share the same method name\n",
    "# And execute the speak() method\n",
    "def pet_speak(pet):\n",
    "    print(pet.speak())\n",
    "\n",
    "pet_speak(niko)\n",
    "\n"
   ]
  },
  {
   "cell_type": "markdown",
   "metadata": {},
   "source": [
    "---\n",
    "#### Abstract Classes & Inheritance:\n",
    "Abstract class never expects to be instantiated - only serves as a base class"
   ]
  },
  {
   "cell_type": "code",
   "execution_count": 59,
   "metadata": {},
   "outputs": [
    {
     "data": {
      "text/plain": [
       "'Fido says woof!'"
      ]
     },
     "execution_count": 59,
     "metadata": {},
     "output_type": "execute_result"
    }
   ],
   "source": [
    "\n",
    "# Raise error if user tries to execute the speak() method under the PolyAnimal class\n",
    "# Expects you to inherit the PolyAnimal class and overwrite the speak method\n",
    "class AbsAnimal():\n",
    "    def __init__(self, name):\n",
    "        self.name = name\n",
    "\n",
    "    def speak(self):\n",
    "        raise NotImplementedError(\"Subclass must implement this abstract method\")\n",
    "\n",
    "\n",
    "# No longer require an __init__() method since we inherit it from AbsAnimal class\n",
    "class AbsDog(AbsAnimal):\n",
    "    def speak(self):\n",
    "        return self.name + \" says woof!\"\n",
    "\n",
    "\n",
    "class AbsCat(AbsAnimal):\n",
    "    def speak(self):\n",
    "        return self.name + \" says meow!\"\n",
    "\n",
    "\n",
    "fido = AbsDog(\"Fido\")\n",
    "mittens = AbsCat(\"Mittens\")\n",
    "\n",
    "fido.speak()\n",
    "\n"
   ]
  },
  {
   "cell_type": "markdown",
   "metadata": {},
   "source": [
    "---\n",
    "### Special (Magic/Dunder) Methods:\n",
    "Allows you to add functionality to your custom classes"
   ]
  },
  {
   "cell_type": "code",
   "execution_count": 68,
   "metadata": {},
   "outputs": [
    {
     "name": "stdout",
     "output_type": "stream",
     "text": [
      "Python rocks by James\n",
      "200\n",
      "A book object has been deleted\n"
     ]
    }
   ],
   "source": [
    "\n",
    "# Without the __str__() special method, if you run the print function it just returns back the object memory reference\n",
    "class Book():\n",
    "    def __init__(self, title, author, pages):\n",
    "        self.title = title\n",
    "        self.author = author\n",
    "        self.pages = pages\n",
    "\n",
    "    def __str__(self):\n",
    "        return f\"{self.title} by {self.author}\"\n",
    "\n",
    "    def __len__(self):\n",
    "        return self.pages\n",
    "\n",
    "    def __del__(self):\n",
    "        print(\"A book object has been deleted\")\n",
    "\n",
    "\n",
    "mybook = Book(title=\"Python rocks\", author=\"James\", pages=200)\n",
    "\n",
    "print(mybook)\n",
    "print(len(mybook))\n",
    "\n",
    "del mybook\n",
    "\n"
   ]
  }
 ],
 "metadata": {
  "interpreter": {
   "hash": "c49fb5e17041472b0e480caef049d2fa9fd3dce7f13c3ac2f70f486e6e889625"
  },
  "kernelspec": {
   "display_name": "Python 3.9.5 64-bit ('env': venv)",
   "language": "python",
   "name": "python3"
  },
  "language_info": {
   "codemirror_mode": {
    "name": "ipython",
    "version": 3
   },
   "file_extension": ".py",
   "mimetype": "text/x-python",
   "name": "python",
   "nbconvert_exporter": "python",
   "pygments_lexer": "ipython3",
   "version": "3.9.5"
  },
  "orig_nbformat": 4
 },
 "nbformat": 4,
 "nbformat_minor": 2
}
